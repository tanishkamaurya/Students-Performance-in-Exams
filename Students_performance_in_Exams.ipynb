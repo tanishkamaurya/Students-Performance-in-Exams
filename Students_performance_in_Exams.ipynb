{
  "nbformat": 4,
  "nbformat_minor": 0,
  "metadata": {
    "colab": {
      "provenance": [],
      "authorship_tag": "ABX9TyNbZWIMStI7Qa6C6kEtBuMg",
      "include_colab_link": true
    },
    "kernelspec": {
      "name": "python3",
      "display_name": "Python 3"
    },
    "language_info": {
      "name": "python"
    }
  },
  "cells": [
    {
      "cell_type": "markdown",
      "metadata": {
        "id": "view-in-github",
        "colab_type": "text"
      },
      "source": [
        "<a href=\"https://colab.research.google.com/github/tanishkamaurya/Students-Performance-in-Exams/blob/main/Students_performance_in_Exams.ipynb\" target=\"_parent\"><img src=\"https://colab.research.google.com/assets/colab-badge.svg\" alt=\"Open In Colab\"/></a>"
      ]
    },
    {
      "cell_type": "code",
      "source": [
        "import pandas as pd"
      ],
      "metadata": {
        "id": "ZpiwaAdEduFp"
      },
      "execution_count": null,
      "outputs": []
    },
    {
      "cell_type": "code",
      "execution_count": null,
      "metadata": {
        "id": "KpdSsGNocvUt"
      },
      "outputs": [],
      "source": [
        "from google.colab import files\n",
        "files.upload()"
      ]
    },
    {
      "cell_type": "code",
      "source": [
        "df = pd.read_csv(\"StudentsPerformance.csv\")\n",
        "df.head()"
      ],
      "metadata": {
        "id": "Qo1xpXN-dzT1"
      },
      "execution_count": null,
      "outputs": []
    },
    {
      "cell_type": "code",
      "source": [
        "import matplotlib.pyplot as plt\n",
        "from sklearn.linear_model import LinearRegression\n",
        "from sklearn.model_selection import train_test_split\n",
        "from sklearn.metrics import mean_squared_error, r2_score"
      ],
      "metadata": {
        "id": "U7_0FMJyd6Nc"
      },
      "execution_count": null,
      "outputs": []
    },
    {
      "cell_type": "code",
      "source": [
        "df.columns"
      ],
      "metadata": {
        "id": "RMlusY52eKz8"
      },
      "execution_count": null,
      "outputs": []
    },
    {
      "cell_type": "code",
      "source": [
        "#X is input (independent variable) // Y is output (dependent variable)\n",
        "X = df[['reading score']]\n",
        "Y = df['math score']"
      ],
      "metadata": {
        "id": "PuWekYmKq0Um"
      },
      "execution_count": null,
      "outputs": []
    },
    {
      "cell_type": "code",
      "source": [
        "X_train, X_test, Y_train, Y_test = train_test_split(X, Y, test_size=0.2, random_state=42)"
      ],
      "metadata": {
        "id": "hGGda_EMp9I6"
      },
      "execution_count": null,
      "outputs": []
    },
    {
      "cell_type": "markdown",
      "source": [
        "# Simple Linear Regression"
      ],
      "metadata": {
        "id": "o3Fzq191x8nx"
      }
    },
    {
      "cell_type": "code",
      "source": [
        "model = LinearRegression()\n",
        "model.fit(X_train, Y_train)"
      ],
      "metadata": {
        "id": "aQ7eszQzsSlM"
      },
      "execution_count": null,
      "outputs": []
    },
    {
      "cell_type": "code",
      "source": [
        "y_pred = model.predict(X_test)\n",
        "\n",
        "#Evaluate the model\n",
        "print(\"R² Score:\", r2_score(Y_test, y_pred))\n",
        "#R2 score helps to predict how the x affects the y. math score is affected 68% by reading score\n",
        "print(\"Mean Squared Error:\", mean_squared_error(Y_test, y_pred))"
      ],
      "metadata": {
        "id": "C-0fo4GJsXge"
      },
      "execution_count": null,
      "outputs": []
    },
    {
      "cell_type": "markdown",
      "source": [
        "MSE = 77.759  \n",
        "root of MSE = 8.82 ~ 9  \n",
        "This means that our prediction is + or - 9 points off"
      ],
      "metadata": {
        "id": "Nf9WXDHTu6Ku"
      }
    },
    {
      "cell_type": "code",
      "source": [
        "#line equation\n",
        "print(\"Coefficient (slope):\", model.coef_[0])\n",
        "print(\"Intercept:\", model.intercept_)"
      ],
      "metadata": {
        "id": "bJH-_vXEsmzM"
      },
      "execution_count": null,
      "outputs": []
    },
    {
      "cell_type": "markdown",
      "source": [
        "math score = 0.8 * reading score + 7.6  \n",
        "This means that when reading score = 0, math score = 7.6   \n",
        "For every 1 point increase in reading score, math score increases by 0.8"
      ],
      "metadata": {
        "id": "EtddP6t5tiX2"
      }
    },
    {
      "cell_type": "markdown",
      "source": [
        "Visualise the Regression line"
      ],
      "metadata": {
        "id": "o0UXJf-Is01F"
      }
    },
    {
      "cell_type": "code",
      "source": [
        "plt.scatter(X_test, Y_test, color='blue', label='Actual Data')\n",
        "plt.plot(X_test, y_pred, color='red', linewidth=2, label='Predicted')\n",
        "plt.xlabel('Reading Score')\n",
        "plt.ylabel('Math Score')\n",
        "plt.title('Reading Score vs Math Score (Simple linear regression)')\n",
        "plt.legend()\n",
        "plt.show()"
      ],
      "metadata": {
        "id": "0XP5a1yXsv_l"
      },
      "execution_count": null,
      "outputs": []
    },
    {
      "cell_type": "code",
      "source": [
        "df_encoded = pd.get_dummies(df, drop_first=True)\n",
        "df_encoded.head()"
      ],
      "metadata": {
        "id": "pLoie8jctDe_"
      },
      "execution_count": null,
      "outputs": []
    },
    {
      "cell_type": "code",
      "source": [
        "df['parental level of education'].unique()"
      ],
      "metadata": {
        "id": "udVHZWGTyPRP"
      },
      "execution_count": null,
      "outputs": []
    },
    {
      "cell_type": "code",
      "source": [
        "df['parental level of education'] = df['parental level of education'].replace({\n",
        "    'bachelor\\'s degree': 'graduate',\n",
        "    'some college': 'graduate',\n",
        "    'master\\'s degree': 'postgraduate',\n",
        "    'associate\\'s degree': 'graduate',\n",
        "    'high school': 'high school',\n",
        "    'some high school': 'high school'\n",
        "})"
      ],
      "metadata": {
        "id": "RN7ZofrDzIGo"
      },
      "execution_count": null,
      "outputs": []
    },
    {
      "cell_type": "code",
      "source": [
        "df['parental level of education'].unique()"
      ],
      "metadata": {
        "id": "911fNiAIzz69"
      },
      "execution_count": null,
      "outputs": []
    },
    {
      "cell_type": "code",
      "source": [
        "df_encoded = pd.get_dummies(df, drop_first=True)\n",
        "df_encoded.head(20)"
      ],
      "metadata": {
        "id": "j3RV7TOCz_-g"
      },
      "execution_count": null,
      "outputs": []
    },
    {
      "cell_type": "code",
      "source": [
        "X = df_encoded.drop('math score', axis=1) #features\n",
        "Y = df_encoded['math score'] #target"
      ],
      "metadata": {
        "id": "fzE8gj0V0E_9"
      },
      "execution_count": null,
      "outputs": []
    },
    {
      "cell_type": "code",
      "source": [
        "X_train, X_test, Y_train, Y_test = train_test_split(X, Y, test_size=0.2, random_state=42)"
      ],
      "metadata": {
        "id": "YUMyI6mr1CZ9"
      },
      "execution_count": null,
      "outputs": []
    },
    {
      "cell_type": "code",
      "source": [
        "model = LinearRegression()\n",
        "model.fit(X_train, Y_train)"
      ],
      "metadata": {
        "id": "ZUJPI5K61FZV"
      },
      "execution_count": null,
      "outputs": []
    },
    {
      "cell_type": "code",
      "source": [
        "y_pred = model.predict(X_test)\n",
        "print(\"R² Score:\", r2_score(Y_test, y_pred))\n",
        "print(\"Mean Squared Error:\", mean_squared_error(Y_test, y_pred))\n",
        "\n",
        "pd.DataFrame({'Features': X.columns, 'Coefficient': model.coef_})"
      ],
      "metadata": {
        "id": "DdJDqIkN1HIx"
      },
      "execution_count": null,
      "outputs": []
    },
    {
      "cell_type": "markdown",
      "source": [
        "MSE = 28.66  \n",
        "root of MSE ~ 5.35 points off  \n",
        "\n",
        "R2 score = 0.882 = 88.2% tells 88.2% of the variance in scores is explained by the multiple features taken in this model  \n",
        "\n",
        "race/ethnicity_group B\t0.359043\n",
        "means that group B performs better than group A  \n",
        "\n",
        "test preparation course_none\t+3.27\tThis is tricky: if None is +3.27, that means students who didn't do test prep scored higher — odd, but possible due to noise or bias"
      ],
      "metadata": {
        "id": "5J3Zg0Ns12tv"
      }
    },
    {
      "cell_type": "code",
      "source": [
        "plt.scatter(Y_test, y_pred, color='green')\n",
        "plt.xlabel('Actual Math Score')\n",
        "plt.ylabel('Predicted Math Score')\n",
        "plt.title('Actual vs Predicted (Multiple Linear Regression)')\n",
        "plt.plot([0, 100], [0, 100], color='red')  # Perfect line\n",
        "plt.show()"
      ],
      "metadata": {
        "id": "i7kBSuzL1ZFb"
      },
      "execution_count": null,
      "outputs": []
    },
    {
      "cell_type": "code",
      "source": [],
      "metadata": {
        "id": "SYYnWxsc1hNV"
      },
      "execution_count": null,
      "outputs": []
    }
  ]
}